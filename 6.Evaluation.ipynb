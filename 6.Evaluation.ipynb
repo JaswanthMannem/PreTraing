{
  "nbformat": 4,
  "nbformat_minor": 0,
  "metadata": {
    "colab": {
      "provenance": [],
      "authorship_tag": "ABX9TyPGOKdj7SkTuB+SNrMDG6Ix",
      "include_colab_link": true
    },
    "kernelspec": {
      "name": "python3",
      "display_name": "Python 3"
    },
    "language_info": {
      "name": "python"
    }
  },
  "cells": [
    {
      "cell_type": "markdown",
      "metadata": {
        "id": "view-in-github",
        "colab_type": "text"
      },
      "source": [
        "<a href=\"https://colab.research.google.com/github/JaswanthMannem/PreTraing/blob/main/6.Evaluation.ipynb\" target=\"_parent\"><img src=\"https://colab.research.google.com/assets/colab-badge.svg\" alt=\"Open In Colab\"/></a>"
      ]
    },
    {
      "cell_type": "code",
      "source": [
        "#!pip install -U git+https://github.com/EleutherAI/lm-evaluation-harness"
      ],
      "metadata": {
        "id": "g3-RxnJzQ8c6"
      },
      "execution_count": null,
      "outputs": []
    },
    {
      "cell_type": "code",
      "source": [
        "!lm_eval --model hf --model_args pretrained=./models/TinySolar-248m-4k --tasks truthfulqa_mc2 --device cpu --limit 5"
      ],
      "metadata": {
        "id": "8mrypghoQ8fc"
      },
      "execution_count": null,
      "outputs": []
    },
    {
      "cell_type": "code",
      "source": [
        "import os\n",
        "\n",
        "def h6_open_llm_leaderboard(model_name):\n",
        "  task_and_shot = [\n",
        "      ('arc_challenge', 25),\n",
        "      ('hellaswag', 10),\n",
        "      ('mmlu', 5),\n",
        "      ('truthfulqa_mc2', 0),\n",
        "      ('winogrande', 5),\n",
        "      ('gsm8k', 5)\n",
        "  ]\n",
        "\n",
        "  for task, fewshot in task_and_shot:\n",
        "    eval_cmd = f\"\"\"\n",
        "    lm_eval --model hf \\\n",
        "        --model_args pretrained={model_name} \\\n",
        "        --tasks {task} \\\n",
        "        --device cpu \\\n",
        "        --num_fewshot {fewshot}\n",
        "    \"\"\"\n",
        "    os.system(eval_cmd)\n",
        "\n",
        "h6_open_llm_leaderboard(model_name=\"YOUR_MODEL\")"
      ],
      "metadata": {
        "id": "o1oTlSbqQ8iE"
      },
      "execution_count": null,
      "outputs": []
    }
  ]
}