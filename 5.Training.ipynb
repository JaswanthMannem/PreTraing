{
  "nbformat": 4,
  "nbformat_minor": 0,
  "metadata": {
    "colab": {
      "provenance": [],
      "authorship_tag": "ABX9TyMvM5cleA86sGqKT3CdcTaU",
      "include_colab_link": true
    },
    "kernelspec": {
      "name": "python3",
      "display_name": "Python 3"
    },
    "language_info": {
      "name": "python"
    }
  },
  "cells": [
    {
      "cell_type": "markdown",
      "metadata": {
        "id": "view-in-github",
        "colab_type": "text"
      },
      "source": [
        "<a href=\"https://colab.research.google.com/github/JaswanthMannem/PreTraing/blob/main/5.Training.ipynb\" target=\"_parent\"><img src=\"https://colab.research.google.com/assets/colab-badge.svg\" alt=\"Open In Colab\"/></a>"
      ]
    },
    {
      "cell_type": "code",
      "execution_count": null,
      "metadata": {
        "id": "VbgF8uVgIuUK"
      },
      "outputs": [],
      "source": [
        "%pip install accelerate==0.26.1 datasets==2.16.1 fasttext==0.9.2 jupyter==1.0.0 pandas==2.2.0 pyarrow==15.0.0 sentencepiece==0.1.99 torch==2.1.2 torchaudio==2.1.2 torchvision==0.16.2 tqdm==4.66.1 transformers==4.37.2\n"
      ]
    },
    {
      "cell_type": "code",
      "source": [
        "import warnings\n",
        "warnings.filterwarnings('ignore')"
      ],
      "metadata": {
        "id": "iZVh3ViLI0nD"
      },
      "execution_count": null,
      "outputs": []
    },
    {
      "cell_type": "markdown",
      "source": [
        "# 1. Load the model to be trained"
      ],
      "metadata": {
        "id": "R19bI7dsKRsg"
      }
    },
    {
      "cell_type": "code",
      "source": [
        "import torch\n",
        "from transformers import AutoModelForCausalLM\n",
        "\n",
        "pretrained_model = AutoModelForCausalLM.from_pretrained(\n",
        "    \"TinySolar-308m-4k-init\",\n",
        "    device_map=\"cpu\",\n",
        "    torch_dtype=torch.bfloat16,\n",
        "    use_cache=False,\n",
        ")"
      ],
      "metadata": {
        "id": "eA17XpQOPOmb"
      },
      "execution_count": null,
      "outputs": []
    },
    {
      "cell_type": "code",
      "source": [
        "pretrained_model"
      ],
      "metadata": {
        "id": "kXZvSoYcKNAm"
      },
      "execution_count": null,
      "outputs": []
    },
    {
      "cell_type": "markdown",
      "source": [
        "# 2. Load dataset"
      ],
      "metadata": {
        "id": "OK9uvjxQKTly"
      }
    },
    {
      "cell_type": "code",
      "source": [
        "import datasets\n",
        "from torch.utils.data import Dataset\n",
        "\n",
        "class CustomDataset(Dataset):\n",
        "    def __init__(self, args, split=\"train\"):\n",
        "        \"\"\"Initializes the custom dataset object.\"\"\"\n",
        "        self.args = args\n",
        "        self.dataset = datasets.load_dataset(\n",
        "            \"parquet\",\n",
        "            data_files=args.dataset_name,\n",
        "            split=split\n",
        "        )\n",
        "\n",
        "    def __len__(self):\n",
        "        \"\"\"Returns the number of samples in the dataset.\"\"\"\n",
        "        return len(self.dataset)\n",
        "\n",
        "    def __getitem__(self, idx):\n",
        "        \"\"\"\n",
        "        Retrieves a single data sample from the dataset\n",
        "        at the specified index\n",
        "        \"\"\"\n",
        "        # Convert the lists to a LongTensor for PyTorch\n",
        "        input_ids = torch.LongTensor(self.dataset[idx][\"input_ids\"])\n",
        "        labels = torch.LongTensor(self.dataset[idx][\"input_ids\"])\n",
        "\n",
        "        # Return the sample as a dictionary\n",
        "        return {\"input_ids\": input_ids, \"labels\": labels}"
      ],
      "metadata": {
        "id": "_Jzjl3h-KWBg"
      },
      "execution_count": null,
      "outputs": []
    },
    {
      "cell_type": "markdown",
      "source": [
        "# 3. Configure Training Arguments"
      ],
      "metadata": {
        "id": "tDdmLmQJP0Iy"
      }
    },
    {
      "cell_type": "code",
      "source": [
        "from dataclasses import dataclass, field\n",
        "import transformers\n",
        "\n",
        "@dataclass\n",
        "class CustomArguments(transformers.TrainingArguments):\n",
        "    dataset_name: str = field(                           # Dataset configuration\n",
        "        default=\"packaged_pretrain_dataset.parquet\")\n",
        "    num_proc: int = field(default=1)                     # Number of subprocesses for data preprocessing\n",
        "    max_seq_length: int = field(default=32)              # Maximum sequence length\n",
        "\n",
        "    # Core training configurations\n",
        "    seed: int = field(default=0)                         # Random seed for initialization, ensuring reproducibility\n",
        "    optim: str = field(default=\"adamw_torch\")            # Optimizer, here it's AdamW implemented in PyTorch\n",
        "    max_steps: int = field(default=30)                   # Number of maximum training steps\n",
        "    per_device_train_batch_size: int = field(default=2)  # Batch size per device during training\n",
        "\n",
        "    # Other training configurations\n",
        "    learning_rate: float = field(default=5e-5)           # Initial learning rate for the optimizer\n",
        "    weight_decay: float = field(default=0)               # Weight decay\n",
        "    warmup_steps: int = field(default=10)                # Number of steps for the learning rate warmup phase\n",
        "    lr_scheduler_type: str = field(default=\"linear\")     # Type of learning rate scheduler\n",
        "    gradient_checkpointing: bool = field(default=True)   # Enable gradient checkpointing to save memory\n",
        "    dataloader_num_workers: int = field(default=2)       # Number of subprocesses for data loading\n",
        "    bf16: bool = field(default=True)                     # Use bfloat16 precision for training on supported hardware\n",
        "    gradient_accumulation_steps: int = field(default=1)  # Number of steps to accumulate gradients before updating model weights\n",
        "\n",
        "    # Logging configuration\n",
        "    logging_steps: int = field(default=3)                # Frequency of logging training information\n",
        "    report_to: str = field(default=\"none\")               # Destination for logging (e.g., WandB, TensorBoard)\n",
        "\n",
        "    # Saving configuration\n",
        "    # save_strategy: str = field(default=\"steps\")          # Can be replaced with \"epoch\"\n",
        "    # save_steps: int = field(default=3)                   # Frequency of saving training checkpoint\n",
        "    # save_total_limit: int = field(default=2)             # The total number of checkpoints to be saved"
      ],
      "metadata": {
        "id": "YzWtrKBmMuSD"
      },
      "execution_count": null,
      "outputs": []
    },
    {
      "cell_type": "code",
      "source": [
        "parser = transformers.HfArgumentParser(CustomArguments)\n",
        "args, = parser.parse_args_into_dataclasses(\n",
        "    args=[\"--output_dir\", \"output\"]\n",
        ")"
      ],
      "metadata": {
        "id": "4SljP8Y_MuZT"
      },
      "execution_count": null,
      "outputs": []
    },
    {
      "cell_type": "code",
      "source": [
        "train_dataset = CustomDataset(args=args)"
      ],
      "metadata": {
        "id": "j2yMmKdCMufE"
      },
      "execution_count": null,
      "outputs": []
    },
    {
      "cell_type": "code",
      "source": [
        "print(\"Input shape: \", train_dataset[0]['input_ids'].shape)"
      ],
      "metadata": {
        "id": "ojdv02JoM3PR"
      },
      "execution_count": null,
      "outputs": []
    },
    {
      "cell_type": "code",
      "source": [
        "from transformers import Trainer, TrainingArguments, TrainerCallback\n",
        "\n",
        "# Define a custom callback to log the loss values\n",
        "class LossLoggingCallback(TrainerCallback):\n",
        "    def on_log(self, args, state, control, logs=None, **kwargs):\n",
        "        if logs is not None:\n",
        "            self.logs.append(logs)\n",
        "\n",
        "    def __init__(self):\n",
        "        self.logs = []\n",
        "\n",
        "# Initialize the callback\n",
        "loss_logging_callback = LossLoggingCallback()"
      ],
      "metadata": {
        "id": "lLphCns-M3S3"
      },
      "execution_count": null,
      "outputs": []
    },
    {
      "cell_type": "markdown",
      "source": [
        "# 4. Run the trainer and monitor the loss"
      ],
      "metadata": {
        "id": "Oqs0wn2mQAc3"
      }
    },
    {
      "cell_type": "code",
      "source": [
        "from transformers import Trainer\n",
        "\n",
        "trainer = Trainer(\n",
        "    model=pretrained_model,\n",
        "    args=args,\n",
        "    train_dataset=train_dataset,\n",
        "    eval_dataset=None,\n",
        "    callbacks=[loss_logging_callback]\n",
        ")\n",
        "\n",
        "trainer.train()"
      ],
      "metadata": {
        "id": "jukIjAtzM3XJ"
      },
      "execution_count": null,
      "outputs": []
    },
    {
      "cell_type": "code",
      "source": [
        "from transformers import AutoTokenizer, TextStreamer\n",
        "model_name_or_path = \"upstage/TinySolar-248m-4k\"\n",
        "tokenizer = AutoTokenizer.from_pretrained(model_name_or_path)"
      ],
      "metadata": {
        "id": "BMpl5uNtNHpD"
      },
      "execution_count": null,
      "outputs": []
    },
    {
      "cell_type": "code",
      "source": [
        "from transformers import AutoTokenizer, TextStreamer, AutoModelForCausalLM\n",
        "import torch\n",
        "\n",
        "model_name_or_path = \"checkpoint-10000\"\n",
        "model2 = AutoModelForCausalLM.from_pretrained(\n",
        "    model_name_or_path,\n",
        "    device_map=\"auto\",\n",
        "    torch_dtype=torch.bfloat16,\n",
        ")\n"
      ],
      "metadata": {
        "id": "zVFyjLxQNIbN"
      },
      "execution_count": null,
      "outputs": []
    },
    {
      "cell_type": "code",
      "source": [
        "prompt = \"I am an engineer. I love\"\n",
        "\n",
        "inputs = tokenizer(prompt, return_tensors=\"pt\").to(model2.device)\n",
        "\n",
        "streamer = TextStreamer(\n",
        "    tokenizer,\n",
        "    skip_prompt=True,\n",
        "    skip_special_tokens=True\n",
        ")\n",
        "\n",
        "outputs = model2.generate(\n",
        "    **inputs,\n",
        "    streamer=streamer,\n",
        "    use_cache=True,\n",
        "    max_new_tokens=64,\n",
        "    do_sample=True,\n",
        "    temperature=1.0,\n",
        ")"
      ],
      "metadata": {
        "id": "pRtOa_H5OPEI"
      },
      "execution_count": null,
      "outputs": []
    }
  ]
}